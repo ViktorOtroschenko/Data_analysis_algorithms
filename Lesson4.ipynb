{
 "cells": [
  {
   "cell_type": "markdown",
   "metadata": {},
   "source": [
    "## Алгоритм построения дерева решений"
   ]
  },
  {
   "cell_type": "markdown",
   "metadata": {},
   "source": [
    "#### Задание 1.\n",
    "В коде из методички реализуйте один или несколько из критериев останова (количество листьев, количество используемых признаков, глубина дерева и т.д.)."
   ]
  },
  {
   "cell_type": "code",
   "execution_count": 1,
   "metadata": {},
   "outputs": [],
   "source": [
    "import matplotlib.pyplot as plt\n",
    "import random\n",
    "\n",
    "from matplotlib.colors import ListedColormap\n",
    "from sklearn import datasets\n",
    "from sklearn import model_selection\n",
    "\n",
    "\n",
    "import numpy as np"
   ]
  },
  {
   "cell_type": "code",
   "execution_count": 2,
   "metadata": {},
   "outputs": [],
   "source": [
    "# Реализуем класс узла\n",
    "\n",
    "class Node:\n",
    "    \n",
    "    def __init__(self, index, t, true_branch, false_branch):\n",
    "        self.index = index  # индекс признака, по которому ведется сравнение с порогом в этом узле\n",
    "        self.t = t  # значение порога\n",
    "        self.true_branch = true_branch  # поддерево, удовлетворяющее условию в узле\n",
    "        self.false_branch = false_branch  # поддерево, не удовлетворяющее условию в узле\n",
    "\n",
    "# И класс терминального узла (листа)   \n",
    "\n",
    "class Leaf:\n",
    "    \n",
    "    def __init__(self, data, labels):\n",
    "        self.data = data\n",
    "        self.labels = labels\n",
    "        self.prediction = self.predict()\n",
    "        \n",
    "    def predict(self):\n",
    "        # подсчет количества объектов разных классов\n",
    "        classes = {}  # сформируем словарь \"класс: количество объектов\"\n",
    "        for label in self.labels:\n",
    "            if label not in classes:\n",
    "                classes[label] = 0\n",
    "            classes[label] += 1\n",
    "        #  найдем класс, количество объектов которого будет максимальным в этом листе и вернем его    \n",
    "        prediction = max(classes, key=classes.get)\n",
    "        return prediction"
   ]
  },
  {
   "cell_type": "code",
   "execution_count": 3,
   "metadata": {},
   "outputs": [],
   "source": [
    "# Расчет критерия Джини\n",
    "\n",
    "def gini(labels):\n",
    "    #  подсчет количества объектов разных классов\n",
    "    classes = {}\n",
    "    for label in labels:\n",
    "        if label not in classes:\n",
    "            classes[label] = 0\n",
    "        classes[label] += 1\n",
    "    \n",
    "    #  расчет критерия\n",
    "    impurity = 1\n",
    "    for label in classes:\n",
    "        p = classes[label] / len(labels)\n",
    "        impurity -= p ** 2\n",
    "        \n",
    "    return impurity"
   ]
  },
  {
   "cell_type": "code",
   "execution_count": 4,
   "metadata": {},
   "outputs": [],
   "source": [
    "# Расчет качества\n",
    "\n",
    "def quality(left_labels, right_labels, current_gini):\n",
    "    # доля выбоки, ушедшая в левое поддерево\n",
    "    p = float(left_labels.shape[0]) / (left_labels.shape[0] + right_labels.shape[0])\n",
    "    \n",
    "    return current_gini - p * gini(left_labels) - (1 - p) * gini(right_labels)"
   ]
  },
  {
   "cell_type": "code",
   "execution_count": 5,
   "metadata": {},
   "outputs": [],
   "source": [
    "# Разбиение датасета в узле\n",
    "\n",
    "def split(data, labels, index, t):\n",
    "    \n",
    "    left = np.where(data[:, index] <= t)\n",
    "    right = np.where(data[:, index] > t)\n",
    "        \n",
    "    true_data = data[left]\n",
    "    false_data = data[right]\n",
    "    true_labels = labels[left]\n",
    "    false_labels = labels[right]\n",
    "        \n",
    "    return true_data, false_data, true_labels, false_labels"
   ]
  },
  {
   "cell_type": "code",
   "execution_count": 20,
   "metadata": {},
   "outputs": [],
   "source": [
    "# Нахождение наилучшего разбиения\n",
    "\n",
    "def find_best_split(data, labels, n_features, type_qualitu='gini'):\n",
    "    \n",
    "    #  обозначим минимальное количество объектов в узле\n",
    "    min_leaf = 5\n",
    "\n",
    "    if type_qualitu == 'entropy':\n",
    "        current_qualitu = entropy(labels)\n",
    "    else:\n",
    "        current_qualitu = gini(labels)\n",
    "\n",
    "    best_quality = 0\n",
    "    best_t = None\n",
    "    best_index = None\n",
    "    \n",
    "    if n_features > data.shape[1]:\n",
    "        n_features = data.shape[1]\n",
    "    \n",
    "    for index in range(n_features):\n",
    "        t_values = [row[index] for row in data]\n",
    "        \n",
    "        for t in t_values:\n",
    "            true_data, false_data, true_labels, false_labels = split(data, labels, index, t)\n",
    "            #  пропускаем разбиения, в которых в узле остается менее 5 объектов\n",
    "            if len(true_data) < min_leaf or len(false_data) < min_leaf:\n",
    "                continue\n",
    "            \n",
    "            current_quality = quality(true_labels, false_labels, current_qualitu)\n",
    "            \n",
    "            #  выбираем порог, на котором получается максимальный прирост качества\n",
    "            if current_quality > best_quality:\n",
    "                best_quality, best_t, best_index = current_quality, t, index\n",
    "\n",
    "    return best_quality, best_t, best_index"
   ]
  },
  {
   "cell_type": "code",
   "execution_count": 18,
   "metadata": {},
   "outputs": [],
   "source": [
    "# Построение дерева с помощью рекурсивной функции\n",
    "\n",
    "def build_tree(data, labels, n_features, type_qualitu='gini'):\n",
    "\n",
    "    quality, t, index = find_best_split(data, labels, n_features, type_qualitu = type_qualitu)\n",
    "\n",
    "    #  Базовый случай - прекращаем рекурсию, когда нет прироста в качества\n",
    "    if quality == 0:\n",
    "        return Leaf(data, labels)\n",
    "\n",
    "    true_data, false_data, true_labels, false_labels = split(data, labels, index, t)\n",
    "\n",
    "    # Рекурсивно строим два поддерева\n",
    "    true_branch = build_tree(true_data, true_labels, n_features, type_qualitu = type_qualitu)\n",
    "    false_branch = build_tree(false_data, false_labels, n_features, type_qualitu = type_qualitu)\n",
    "\n",
    "    # Возвращаем класс узла со всеми поддеревьями, то есть целого дерева\n",
    "    return Node(index, t, true_branch, false_branch)"
   ]
  },
  {
   "cell_type": "code",
   "execution_count": 11,
   "metadata": {},
   "outputs": [],
   "source": [
    "def classify_object(obj, node):\n",
    "\n",
    "    #  Останавливаем рекурсию, если достигли листа\n",
    "    if isinstance(node, Leaf):\n",
    "        answer = node.prediction\n",
    "        return answer\n",
    "\n",
    "    if obj[node.index] <= node.t:\n",
    "        return classify_object(obj, node.true_branch)\n",
    "    else:\n",
    "        return classify_object(obj, node.false_branch)"
   ]
  },
  {
   "cell_type": "code",
   "execution_count": 12,
   "metadata": {},
   "outputs": [],
   "source": [
    "def predict(data, tree):\n",
    "    \n",
    "    classes = []\n",
    "    for obj in data:\n",
    "        prediction = classify_object(obj, tree)\n",
    "        classes.append(prediction)\n",
    "    return classes"
   ]
  },
  {
   "cell_type": "code",
   "execution_count": 13,
   "metadata": {},
   "outputs": [],
   "source": [
    "# сгенерируем данные\n",
    "classification_data, classification_labels = datasets.make_classification(n_features = 5, n_informative = 2, \n",
    "                                                      n_classes = 2, n_redundant=0, \n",
    "                                                      n_clusters_per_class=1, random_state=5)"
   ]
  },
  {
   "cell_type": "code",
   "execution_count": 14,
   "metadata": {},
   "outputs": [
    {
     "data": {
      "text/plain": [
       "<matplotlib.collections.PathCollection at 0x2b11bab3850>"
      ]
     },
     "execution_count": 14,
     "metadata": {},
     "output_type": "execute_result"
    },
    {
     "data": {
      "image/png": "[encoded data removed]",
      "text/plain": [
       "<Figure size 576x576 with 1 Axes>"
      ]
     },
     "metadata": {
      "needs_background": "light"
     },
     "output_type": "display_data"
    }
   ],
   "source": [
    "# визуализируем сгенерированные данные\n",
    "\n",
    "colors = ListedColormap(['red', 'blue'])\n",
    "light_colors = ListedColormap(['lightcoral', 'lightblue'])\n",
    "\n",
    "plt.figure(figsize=(8,8))\n",
    "plt.scatter(list(map(lambda x: x[0], classification_data)), list(map(lambda x: x[1], classification_data)), \n",
    "              c=classification_labels, cmap=colors)"
   ]
  },
  {
   "cell_type": "code",
   "execution_count": 15,
   "metadata": {},
   "outputs": [],
   "source": [
    "# Разобьем выборку на обучающую и тестовую\n",
    "\n",
    "from sklearn import model_selection\n",
    "\n",
    "train_data, test_data, train_labels, test_labels = model_selection.train_test_split(classification_data, \n",
    "                                                                                     classification_labels, \n",
    "                                                                                     test_size = 0.3,\n",
    "                                                                                     random_state = 1)"
   ]
  },
  {
   "cell_type": "code",
   "execution_count": 21,
   "metadata": {},
   "outputs": [],
   "source": [
    "# Построим дерево по обучающей выборке\n",
    "my_tree_1 = build_tree(train_data, train_labels, 1, type_qualitu='gini')\n",
    "my_tree_2 = build_tree(train_data, train_labels, 2, type_qualitu='gini')\n",
    "my_tree_3 = build_tree(train_data, train_labels, 3, type_qualitu='gini')\n",
    "my_tree_4 = build_tree(train_data, train_labels, 4, type_qualitu='gini')\n",
    "my_tree_5 = build_tree(train_data, train_labels, 5, type_qualitu='gini')"
   ]
  },
  {
   "cell_type": "code",
   "execution_count": 22,
   "metadata": {},
   "outputs": [],
   "source": [
    "# Напечатаем ход нашего дерева\n",
    "def print_tree(node, spacing=\"\"):\n",
    "\n",
    "    # Если лист, то выводим его прогноз\n",
    "    if isinstance(node, Leaf):\n",
    "        print(spacing + \"Прогноз:\", node.prediction)\n",
    "        return\n",
    "\n",
    "    # Выведем значение индекса и порога на этом узле\n",
    "    print(spacing + 'Индекс', str(node.index))\n",
    "    print(spacing + 'Порог', str(node.t))\n",
    "\n",
    "    # Рекурсионный вызов функции на положительном поддереве\n",
    "    print (spacing + '--> True:')\n",
    "    print_tree(node.true_branch, spacing + \"  \")\n",
    "\n",
    "    # Рекурсионный вызов функции на положительном поддереве\n",
    "    print (spacing + '--> False:')\n",
    "    print_tree(node.false_branch, spacing + \"  \")"
   ]
  },
  {
   "cell_type": "code",
   "execution_count": 23,
   "metadata": {},
   "outputs": [
    {
     "name": "stdout",
     "output_type": "stream",
     "text": [
      "Индекс 0\n",
      "Порог 0.05877427080072417\n",
      "--> True:\n",
      "  Индекс 0\n",
      "  Порог -2.4538002719536713\n",
      "  --> True:\n",
      "    Прогноз: 0\n",
      "  --> False:\n",
      "    Индекс 0\n",
      "    Порог -1.5208896621663803\n",
      "    --> True:\n",
      "      Индекс 0\n",
      "      Порог -1.9248707469909265\n",
      "      --> True:\n",
      "        Прогноз: 1\n",
      "      --> False:\n",
      "        Прогноз: 1\n",
      "    --> False:\n",
      "      Индекс 0\n",
      "      Порог -1.0067059407954793\n",
      "      --> True:\n",
      "        Индекс 0\n",
      "        Порог -1.1587284262397282\n",
      "        --> True:\n",
      "          Прогноз: 1\n",
      "        --> False:\n",
      "          Индекс 0\n",
      "          Порог -1.060571668007044\n",
      "          --> True:\n",
      "            Прогноз: 0\n",
      "          --> False:\n",
      "            Прогноз: 0\n",
      "      --> False:\n",
      "        Индекс 0\n",
      "        Порог -0.32159682099061193\n",
      "        --> True:\n",
      "          Индекс 0\n",
      "          Порог -0.5544817150009672\n",
      "          --> True:\n",
      "            Прогноз: 1\n",
      "          --> False:\n",
      "            Прогноз: 1\n",
      "        --> False:\n",
      "          Прогноз: 0\n",
      "--> False:\n",
      "  Прогноз: 0\n",
      "Дерево - 1 None\n",
      "\n",
      "Индекс 0\n",
      "Порог 0.05877427080072417\n",
      "--> True:\n",
      "  Индекс 1\n",
      "  Порог -0.7101501157759664\n",
      "  --> True:\n",
      "    Индекс 1\n",
      "    Порог -1.461290444989375\n",
      "    --> True:\n",
      "      Прогноз: 1\n",
      "    --> False:\n",
      "      Прогноз: 1\n",
      "  --> False:\n",
      "    Индекс 1\n",
      "    Порог -0.15813881243679362\n",
      "    --> True:\n",
      "      Индекс 0\n",
      "      Порог -1.4172393321608008\n",
      "      --> True:\n",
      "        Прогноз: 0\n",
      "      --> False:\n",
      "        Прогноз: 0\n",
      "    --> False:\n",
      "      Индекс 1\n",
      "      Порог 0.34337204957880313\n",
      "      --> True:\n",
      "        Индекс 0\n",
      "        Порог -1.8446354603590789\n",
      "        --> True:\n",
      "          Прогноз: 1\n",
      "        --> False:\n",
      "          Индекс 0\n",
      "          Порог -1.0067059407954793\n",
      "          --> True:\n",
      "            Прогноз: 1\n",
      "          --> False:\n",
      "            Прогноз: 1\n",
      "      --> False:\n",
      "        Индекс 0\n",
      "        Порог -0.5544817150009672\n",
      "        --> True:\n",
      "          Индекс 1\n",
      "          Порог 0.7390581536576039\n",
      "          --> True:\n",
      "            Прогноз: 0\n",
      "          --> False:\n",
      "            Прогноз: 0\n",
      "        --> False:\n",
      "          Прогноз: 1\n",
      "--> False:\n",
      "  Прогноз: 0\n",
      "Дерево - 2 None\n",
      "\n",
      "Индекс 0\n",
      "Порог 0.05877427080072417\n",
      "--> True:\n",
      "  Индекс 1\n",
      "  Порог -0.7101501157759664\n",
      "  --> True:\n",
      "    Индекс 1\n",
      "    Порог -1.461290444989375\n",
      "    --> True:\n",
      "      Прогноз: 1\n",
      "    --> False:\n",
      "      Прогноз: 1\n",
      "  --> False:\n",
      "    Индекс 1\n",
      "    Порог -0.15813881243679362\n",
      "    --> True:\n",
      "      Индекс 2\n",
      "      Порог 0.45241385762400416\n",
      "      --> True:\n",
      "        Прогноз: 0\n",
      "      --> False:\n",
      "        Прогноз: 0\n",
      "    --> False:\n",
      "      Индекс 1\n",
      "      Порог 0.34337204957880313\n",
      "      --> True:\n",
      "        Индекс 0\n",
      "        Порог -1.8446354603590789\n",
      "        --> True:\n",
      "          Прогноз: 1\n",
      "        --> False:\n",
      "          Индекс 0\n",
      "          Порог -1.0067059407954793\n",
      "          --> True:\n",
      "            Прогноз: 1\n",
      "          --> False:\n",
      "            Прогноз: 1\n",
      "      --> False:\n",
      "        Индекс 0\n",
      "        Порог -0.5544817150009672\n",
      "        --> True:\n",
      "          Индекс 1\n",
      "          Порог 0.7390581536576039\n",
      "          --> True:\n",
      "            Прогноз: 0\n",
      "          --> False:\n",
      "            Прогноз: 0\n",
      "        --> False:\n",
      "          Прогноз: 1\n",
      "--> False:\n",
      "  Прогноз: 0\n",
      "Дерево - 3 None\n",
      "\n",
      "Индекс 0\n",
      "Порог 0.05877427080072417\n",
      "--> True:\n",
      "  Индекс 1\n",
      "  Порог -0.7101501157759664\n",
      "  --> True:\n",
      "    Индекс 1\n",
      "    Порог -1.461290444989375\n",
      "    --> True:\n",
      "      Прогноз: 1\n",
      "    --> False:\n",
      "      Прогноз: 1\n",
      "  --> False:\n",
      "    Индекс 1\n",
      "    Порог -0.15813881243679362\n",
      "    --> True:\n",
      "      Индекс 3\n",
      "      Порог -0.38488215314995006\n",
      "      --> True:\n",
      "        Прогноз: 0\n",
      "      --> False:\n",
      "        Прогноз: 0\n",
      "    --> False:\n",
      "      Индекс 1\n",
      "      Порог 0.34337204957880313\n",
      "      --> True:\n",
      "        Индекс 0\n",
      "        Порог -1.8446354603590789\n",
      "        --> True:\n",
      "          Прогноз: 1\n",
      "        --> False:\n",
      "          Индекс 0\n",
      "          Порог -1.0067059407954793\n",
      "          --> True:\n",
      "            Прогноз: 1\n",
      "          --> False:\n",
      "            Прогноз: 1\n",
      "      --> False:\n",
      "        Индекс 0\n",
      "        Порог -0.5544817150009672\n",
      "        --> True:\n",
      "          Индекс 1\n",
      "          Порог 0.7390581536576039\n",
      "          --> True:\n",
      "            Прогноз: 0\n",
      "          --> False:\n",
      "            Прогноз: 0\n",
      "        --> False:\n",
      "          Прогноз: 1\n",
      "--> False:\n",
      "  Прогноз: 0\n",
      "Дерево - 4 None\n",
      "\n",
      "Индекс 4\n",
      "Порог 0.16261402870113306\n",
      "--> True:\n",
      "  Индекс 0\n",
      "  Порог -1.5208896621663803\n",
      "  --> True:\n",
      "    Индекс 4\n",
      "    Порог -0.9478301462477035\n",
      "    --> True:\n",
      "      Прогноз: 0\n",
      "    --> False:\n",
      "      Прогноз: 1\n",
      "  --> False:\n",
      "    Прогноз: 0\n",
      "--> False:\n",
      "  Прогноз: 1\n",
      "Дерево - 5 None\n",
      "\n"
     ]
    }
   ],
   "source": [
    "list_tree = [my_tree_1, my_tree_2, my_tree_3, my_tree_4, my_tree_5]\n",
    "for i, item in enumerate(list_tree):\n",
    "    print(f'Дерево - {i + 1}', print_tree(item), end='\\n\\n')"
   ]
  },
  {
   "cell_type": "code",
   "execution_count": 24,
   "metadata": {},
   "outputs": [],
   "source": [
    "# Получим ответы для обучающей выборки \n",
    "train_answers_1 = predict(train_data, my_tree_1)\n",
    "train_answers_2 = predict(train_data, my_tree_2)\n",
    "train_answers_3 = predict(train_data, my_tree_3)\n",
    "train_answers_4 = predict(train_data, my_tree_4)\n",
    "train_answers_5 = predict(train_data, my_tree_5)"
   ]
  },
  {
   "cell_type": "code",
   "execution_count": 25,
   "metadata": {},
   "outputs": [],
   "source": [
    "# И получим ответы для тестовой выборки\n",
    "answers_1 = predict(test_data, my_tree_1)\n",
    "answers_2 = predict(test_data, my_tree_2)\n",
    "answers_3 = predict(test_data, my_tree_3)\n",
    "answers_4 = predict(test_data, my_tree_4)\n",
    "answers_5 = predict(test_data, my_tree_5)"
   ]
  },
  {
   "cell_type": "code",
   "execution_count": 26,
   "metadata": {},
   "outputs": [],
   "source": [
    "# Введем функцию подсчета точности как доли правильных ответов\n",
    "def accuracy_metric(actual, predicted):\n",
    "    correct = 0\n",
    "    for i in range(len(actual)):\n",
    "        if actual[i] == predicted[i]:\n",
    "            correct += 1\n",
    "    return correct / float(len(actual)) * 100.0"
   ]
  },
  {
   "cell_type": "code",
   "execution_count": 27,
   "metadata": {},
   "outputs": [],
   "source": [
    "# Точность на обучающей выборке\n",
    "train_accuracy_1 = accuracy_metric(train_labels, train_answers_1)\n",
    "train_accuracy_2 = accuracy_metric(train_labels, train_answers_2)\n",
    "train_accuracy_3 = accuracy_metric(train_labels, train_answers_3)\n",
    "train_accuracy_4 = accuracy_metric(train_labels, train_answers_4)\n",
    "train_accuracy_5 = accuracy_metric(train_labels, train_answers_5)\n",
    "train = [train_accuracy_1, train_accuracy_2, train_accuracy_3, train_accuracy_4, train_accuracy_5]"
   ]
  },
  {
   "cell_type": "code",
   "execution_count": 28,
   "metadata": {},
   "outputs": [
    {
     "name": "stdout",
     "output_type": "stream",
     "text": [
      "Результат дерева - 1: 75.71428571428571\n",
      "\n",
      "Результат дерева - 2: 82.85714285714286\n",
      "\n",
      "Результат дерева - 3: 82.85714285714286\n",
      "\n",
      "Результат дерева - 4: 82.85714285714286\n",
      "\n",
      "Результат дерева - 5: 100.0\n",
      "\n"
     ]
    }
   ],
   "source": [
    "for i, item in enumerate(train):\n",
    "    print(f'Результат дерева - {i + 1}:', item, end='\\n\\n')"
   ]
  },
  {
   "cell_type": "code",
   "execution_count": 29,
   "metadata": {},
   "outputs": [],
   "source": [
    "# Точность на тестовой выборке\n",
    "test_accuracy_1 = accuracy_metric(test_labels, answers_1)\n",
    "test_accuracy_2 = accuracy_metric(test_labels, answers_2)\n",
    "test_accuracy_3 = accuracy_metric(test_labels, answers_3)\n",
    "test_accuracy_4 = accuracy_metric(test_labels, answers_4)\n",
    "test_accuracy_5 = accuracy_metric(test_labels, answers_5)\n",
    "test = [test_accuracy_1, test_accuracy_2, test_accuracy_3, test_accuracy_4, test_accuracy_5]"
   ]
  },
  {
   "cell_type": "code",
   "execution_count": 30,
   "metadata": {},
   "outputs": [
    {
     "name": "stdout",
     "output_type": "stream",
     "text": [
      "Результат дерева - 1: 56.666666666666664\n",
      "\n",
      "Результат дерева - 2: 53.333333333333336\n",
      "\n",
      "Результат дерева - 3: 53.333333333333336\n",
      "\n",
      "Результат дерева - 4: 53.333333333333336\n",
      "\n",
      "Результат дерева - 5: 96.66666666666667\n",
      "\n"
     ]
    }
   ],
   "source": [
    "for i, item in enumerate(test):\n",
    "    print(f'Результат дерева - {i + 1}:', item, end='\\n\\n')"
   ]
  },
  {
   "cell_type": "markdown",
   "metadata": {},
   "source": [
    "__Из полученных результатов видно качество ответов в выборке лучше у дерева, построенного на всех признаках__"
   ]
  },
  {
   "cell_type": "markdown",
   "metadata": {},
   "source": [
    "#### Задание 2.\n",
    "Для задачи классификации обучить дерево решений с использованием критериев разбиения Джини и Энтропия. Сравнить качество классификации, сделать выводы."
   ]
  },
  {
   "cell_type": "code",
   "execution_count": 31,
   "metadata": {},
   "outputs": [],
   "source": [
    "# Расчет критерия Энтропии\n",
    "\n",
    "def entropy(labels):\n",
    "    #  подсчет количества объектов разных классов\n",
    "    classes = {}\n",
    "    for label in labels:\n",
    "        if label not in classes:\n",
    "            classes[label] = 0\n",
    "        classes[label] += 1\n",
    "    \n",
    "    #  расчет критерия\n",
    "    impurity = 0\n",
    "    for label in classes:\n",
    "        p = classes[label] / len(labels)\n",
    "        impurity -= p *np.log2(p)\n",
    "        \n",
    "    return impurity"
   ]
  },
  {
   "cell_type": "code",
   "execution_count": 32,
   "metadata": {},
   "outputs": [],
   "source": [
    "# Расчет качества добавим аргумент, тип оценки\n",
    "\n",
    "def quality(left_labels, right_labels, current_quality,type_qualitu = 'gini'):\n",
    "\n",
    "    # доля выбоки, ушедшая в левое поддерево\n",
    "    p = float(left_labels.shape[0]) / (left_labels.shape[0] + right_labels.shape[0])\n",
    "    if type_qualitu == 'entropy':\n",
    "        return current_quality - p * entropy(left_labels) - (1 - p) * entropy(right_labels)  \n",
    "    return current_quality - p * gini(left_labels) - (1 - p) * gini(right_labels)"
   ]
  },
  {
   "cell_type": "code",
   "execution_count": 36,
   "metadata": {},
   "outputs": [],
   "source": [
    "# Построим дерево с криетерием энтропии\n",
    "\n",
    "my_tree_1 = build_tree(train_data, train_labels, 1, type_qualitu='entropy')\n",
    "my_tree_2 = build_tree(train_data, train_labels, 2, type_qualitu='entropy')\n",
    "my_tree_3 = build_tree(train_data, train_labels, 3, type_qualitu='entropy')\n",
    "my_tree_4 = build_tree(train_data, train_labels, 4, type_qualitu='entropy')\n",
    "my_tree_5 = build_tree(train_data, train_labels, 5, type_qualitu='entropy')"
   ]
  },
  {
   "cell_type": "code",
   "execution_count": 37,
   "metadata": {},
   "outputs": [],
   "source": [
    "train_answers_1 = predict(train_data, my_tree_1)\n",
    "train_answers_2 = predict(train_data, my_tree_2)\n",
    "train_answers_3 = predict(train_data, my_tree_3)\n",
    "train_answers_4 = predict(train_data, my_tree_4)\n",
    "train_answers_5 = predict(train_data, my_tree_5)"
   ]
  },
  {
   "cell_type": "code",
   "execution_count": 38,
   "metadata": {},
   "outputs": [],
   "source": [
    "answers_1 = predict(test_data, my_tree_1)\n",
    "answers_2 = predict(test_data, my_tree_2)\n",
    "answers_3 = predict(test_data, my_tree_3)\n",
    "answers_4 = predict(test_data, my_tree_4)\n",
    "answers_5 = predict(test_data, my_tree_5)"
   ]
  },
  {
   "cell_type": "code",
   "execution_count": 39,
   "metadata": {},
   "outputs": [],
   "source": [
    "train_accuracy_1 = accuracy_metric(train_labels, train_answers_1)\n",
    "train_accuracy_2 = accuracy_metric(train_labels, train_answers_2)\n",
    "train_accuracy_3 = accuracy_metric(train_labels, train_answers_3)\n",
    "train_accuracy_4 = accuracy_metric(train_labels, train_answers_4)\n",
    "train_accuracy_5 = accuracy_metric(train_labels, train_answers_5)\n",
    "train = [train_accuracy_1, train_accuracy_2, train_accuracy_3, train_accuracy_4, train_accuracy_5]"
   ]
  },
  {
   "cell_type": "code",
   "execution_count": 40,
   "metadata": {},
   "outputs": [
    {
     "name": "stdout",
     "output_type": "stream",
     "text": [
      "Результат дерева - 1: 75.71428571428571\n",
      "\n",
      "Результат дерева - 2: 82.85714285714286\n",
      "\n",
      "Результат дерева - 3: 82.85714285714286\n",
      "\n",
      "Результат дерева - 4: 82.85714285714286\n",
      "\n",
      "Результат дерева - 5: 100.0\n",
      "\n"
     ]
    }
   ],
   "source": [
    "for i, item in enumerate(train):\n",
    "    print(f'Результат дерева - {i + 1}:', item, end='\\n\\n')"
   ]
  },
  {
   "cell_type": "code",
   "execution_count": 41,
   "metadata": {},
   "outputs": [],
   "source": [
    "test_accuracy_1 = accuracy_metric(test_labels, answers_1)\n",
    "test_accuracy_2 = accuracy_metric(test_labels, answers_2)\n",
    "test_accuracy_3 = accuracy_metric(test_labels, answers_3)\n",
    "test_accuracy_4 = accuracy_metric(test_labels, answers_4)\n",
    "test_accuracy_5 = accuracy_metric(test_labels, answers_5)\n",
    "test = [test_accuracy_1, test_accuracy_2, test_accuracy_3, test_accuracy_4, test_accuracy_5]"
   ]
  },
  {
   "cell_type": "code",
   "execution_count": 42,
   "metadata": {},
   "outputs": [
    {
     "name": "stdout",
     "output_type": "stream",
     "text": [
      "Результат дерева - 1: 56.666666666666664\n",
      "\n",
      "Результат дерева - 2: 53.333333333333336\n",
      "\n",
      "Результат дерева - 3: 53.333333333333336\n",
      "\n",
      "Результат дерева - 4: 53.333333333333336\n",
      "\n",
      "Результат дерева - 5: 96.66666666666667\n",
      "\n"
     ]
    }
   ],
   "source": [
    "for i, item in enumerate(test):\n",
    "    print(f'Результат дерева - {i + 1}:', item, end='\\n\\n')"
   ]
  },
  {
   "cell_type": "markdown",
   "metadata": {},
   "source": [
    "#### Задание 3.\n",
    "[опция]. Реализуйте дерево для задачи регрессии. Возьмите за основу дерево, реализованное в методичке, заменив механизм предсказания в листе на взятие среднего значения по выборке, и критерий Джини на дисперсию значений."
   ]
  },
  {
   "cell_type": "code",
   "execution_count": 75,
   "metadata": {},
   "outputs": [],
   "source": [
    "data, labels = datasets.make_regression(n_samples=500, n_features = 2, n_informative = 2, \n",
    "                                                 n_targets = 1, noise = 10, random_state = 2)"
   ]
  },
  {
   "cell_type": "code",
   "execution_count": 76,
   "metadata": {},
   "outputs": [
    {
     "data": {
      "text/plain": [
       "<matplotlib.collections.PathCollection at 0x2b11849bdc0>"
      ]
     },
     "execution_count": 76,
     "metadata": {},
     "output_type": "execute_result"
    },
    {
     "data": {
      "image/png": "[encoded data removed]",
      "text/plain": [
       "<Figure size 576x576 with 1 Axes>"
      ]
     },
     "metadata": {
      "needs_background": "light"
     },
     "output_type": "display_data"
    }
   ],
   "source": [
    "colors = ListedColormap(['red', 'blue'])\n",
    "light_colors = ListedColormap(['lightcoral', 'lightblue'])\n",
    "\n",
    "plt.figure(figsize=(8,8))\n",
    "plt.scatter(list(map(lambda x: x[0], data)), list(map(lambda x: x[1], data)), \n",
    "              c=labels, cmap=colors)"
   ]
  },
  {
   "cell_type": "code",
   "execution_count": 79,
   "metadata": {},
   "outputs": [],
   "source": [
    "class Node:\n",
    "    \n",
    "    def __init__(self, index, t, true_branch, false_branch):\n",
    "        self.index = index  \n",
    "        self.t = t  \n",
    "        self.true_branch = true_branch  \n",
    "        self.false_branch = false_branch \n",
    "        \n",
    "class Leaf:\n",
    "    \n",
    "    def __init__(self, data, labels):\n",
    "        self.data = data\n",
    "        self.labels = labels\n",
    "        self.prediction = self.predict()\n",
    "        \n",
    "    def predict(self):\n",
    "        objects = []  \n",
    "        for label in self.labels:\n",
    "            objects.append(label)   \n",
    "        objects = np.array(objects)\n",
    "        prediction = objects.mean()\n",
    "        return prediction"
   ]
  },
  {
   "cell_type": "code",
   "execution_count": 96,
   "metadata": {},
   "outputs": [],
   "source": [
    "def dispersion(labels):\n",
    "    objects = []  \n",
    "    for label in labels:\n",
    "        objects.append(label)\n",
    "    objects = np.array(objects)\n",
    "    pred = objects.mean()\n",
    "    return np.mean((labels - pred) ** 2)"
   ]
  },
  {
   "cell_type": "code",
   "execution_count": 97,
   "metadata": {},
   "outputs": [],
   "source": [
    "def quality(left_labels, right_labels, current_dispersion):\n",
    "\n",
    "    # доля выбоки, ушедшая в левое поддерево\n",
    "    p = float(left_labels.shape[0]) / (left_labels.shape[0] + right_labels.shape[0])\n",
    "    \n",
    "    return current_dispersion - p * dispersion(left_labels) - (1 - p) * dispersion(right_labels)"
   ]
  },
  {
   "cell_type": "code",
   "execution_count": 98,
   "metadata": {},
   "outputs": [],
   "source": [
    "def split(data, labels, index, t):\n",
    "    \n",
    "    left = np.where(data[:, index] <= t)\n",
    "    right = np.where(data[:, index] > t)\n",
    "        \n",
    "    true_data = data[left]\n",
    "    false_data = data[right]\n",
    "    true_labels = labels[left]\n",
    "    false_labels = labels[right]\n",
    "        \n",
    "    return true_data, false_data, true_labels, false_labels"
   ]
  },
  {
   "cell_type": "code",
   "execution_count": 99,
   "metadata": {},
   "outputs": [],
   "source": [
    "def find_best_split(data, labels):\n",
    "    \n",
    "    min_leaf = 5\n",
    "\n",
    "    current_dispersion = dispersion(labels)\n",
    "\n",
    "    best_quality = 0\n",
    "    best_t = None\n",
    "    best_index = None\n",
    "    \n",
    "    n_features = data.shape[1]\n",
    "    \n",
    "    for index in range(n_features):\n",
    "        t_values = [row[index] for row in data]\n",
    "        \n",
    "        for t in t_values:\n",
    "            true_data, false_data, true_labels, false_labels = split(data, labels, index, t)\n",
    "            #  пропускаем разбиения, в которых в узле остается менее 5 объектов\n",
    "            if len(true_data) < min_leaf or len(false_data) < min_leaf:\n",
    "                continue\n",
    "            \n",
    "            current_quality = quality(true_labels, false_labels, current_dispersion)\n",
    "            \n",
    "            #  выбираем порог, на котором получается максимальный прирост качества\n",
    "            if current_quality > best_quality:\n",
    "                best_quality, best_t, best_index = current_quality, t, index\n",
    "\n",
    "    return best_quality, best_t, best_index"
   ]
  },
  {
   "cell_type": "code",
   "execution_count": 100,
   "metadata": {},
   "outputs": [],
   "source": [
    "def build_tree(data, labels):\n",
    "\n",
    "    quality, t, index = find_best_split(data, labels)\n",
    "\n",
    "    #  Базовый случай - прекращаем рекурсию, когда нет прироста в качества\n",
    "    if quality == 0:\n",
    "        return Leaf(data, labels)\n",
    "\n",
    "    true_data, false_data, true_labels, false_labels = split(data, labels, index, t)\n",
    "\n",
    "    # Рекурсивно строим два поддерева\n",
    "    true_branch = build_tree(true_data, true_labels)\n",
    "    false_branch = build_tree(false_data, false_labels)\n",
    "\n",
    "    # Возвращаем класс узла со всеми поддеревьями, то есть целого дерева\n",
    "    return Node(index, t, true_branch, false_branch)"
   ]
  },
  {
   "cell_type": "code",
   "execution_count": 101,
   "metadata": {},
   "outputs": [],
   "source": [
    "def classify_object(obj, node):\n",
    "\n",
    "    #  Останавливаем рекурсию, если достигли листа\n",
    "    if isinstance(node, Leaf):\n",
    "        answer = node.prediction\n",
    "        return answer\n",
    "\n",
    "    if obj[node.index] <= node.t:\n",
    "        return classify_object(obj, node.true_branch)\n",
    "    else:\n",
    "        return classify_object(obj, node.false_branch)"
   ]
  },
  {
   "cell_type": "code",
   "execution_count": 102,
   "metadata": {},
   "outputs": [],
   "source": [
    "def predict(data, tree):\n",
    "    \n",
    "    classes = []\n",
    "    for obj in data:\n",
    "        prediction = classify_object(obj, tree)\n",
    "        classes.append(prediction)\n",
    "    return classes"
   ]
  },
  {
   "cell_type": "code",
   "execution_count": 120,
   "metadata": {},
   "outputs": [],
   "source": [
    "def calc_mse(labels, answers):\n",
    "    return np.mean((labels - answers) ** 2)"
   ]
  },
  {
   "cell_type": "code",
   "execution_count": 104,
   "metadata": {},
   "outputs": [],
   "source": [
    "def R2(labels, answers):\n",
    "    return (1 - np.sum((answers - labels) ** 2) / np.sum((labels - np.mean(labels))**2))"
   ]
  },
  {
   "cell_type": "code",
   "execution_count": 105,
   "metadata": {},
   "outputs": [],
   "source": [
    "train_data, test_data, train_labels, test_labels = model_selection.train_test_split(data, \n",
    "                                                                                     labels, \n",
    "                                                                                     test_size = 0.3,\n",
    "                                                                                     random_state = 1)"
   ]
  },
  {
   "cell_type": "code",
   "execution_count": 106,
   "metadata": {},
   "outputs": [],
   "source": [
    "my_tree = build_tree(train_data, train_labels)"
   ]
  },
  {
   "cell_type": "code",
   "execution_count": 107,
   "metadata": {},
   "outputs": [
    {
     "name": "stdout",
     "output_type": "stream",
     "text": [
      "Индекс 1 <= 0.3564358186661671\n",
      "--> True:\n",
      "  Индекс 0 <= -0.07663956399736893\n",
      "  --> True:\n",
      "    Индекс 1 <= -0.6127515576665696\n",
      "    --> True:\n",
      "      Индекс 0 <= -1.5162047609820084\n",
      "      --> True:\n",
      "        Прогноз: -270.86275438617815\n",
      "      --> False:\n",
      "        Индекс 1 <= -1.778600641324842\n",
      "        --> True:\n",
      "          Прогноз: -222.95545274013034\n",
      "        --> False:\n",
      "          Индекс 0 <= -0.6815306444640257\n",
      "          --> True:\n",
      "            Индекс 1 <= -1.0144630635201637\n",
      "            --> True:\n",
      "              Прогноз: -170.8898421965565\n",
      "            --> False:\n",
      "              Прогноз: -151.71549129525033\n",
      "          --> False:\n",
      "            Индекс 1 <= -1.3334039877945194\n",
      "            --> True:\n",
      "              Прогноз: -156.9944320463508\n",
      "            --> False:\n",
      "              Индекс 0 <= -0.5598201129278841\n",
      "              --> True:\n",
      "                Прогноз: -131.4772296894474\n",
      "              --> False:\n",
      "                Прогноз: -112.11048198382466\n",
      "    --> False:\n",
      "      Индекс 0 <= -1.0196490994759295\n",
      "      --> True:\n",
      "        Индекс 0 <= -1.5951343988587234\n",
      "        --> True:\n",
      "          Индекс 1 <= -0.22824755819403428\n",
      "          --> True:\n",
      "            Прогноз: -175.62271407631974\n",
      "          --> False:\n",
      "            Прогноз: -132.63552340659697\n",
      "        --> False:\n",
      "          Индекс 1 <= -0.050866672635910916\n",
      "          --> True:\n",
      "            Индекс 0 <= -1.2592070153633834\n",
      "            --> True:\n",
      "              Прогноз: -125.33008896974927\n",
      "            --> False:\n",
      "              Прогноз: -112.67273968917159\n",
      "          --> False:\n",
      "            Прогноз: -77.89671190714016\n",
      "      --> False:\n",
      "        Индекс 1 <= 0.12110558157832865\n",
      "        --> True:\n",
      "          Индекс 0 <= -0.5898086834155772\n",
      "          --> True:\n",
      "            Индекс 1 <= -0.19092456465529514\n",
      "            --> True:\n",
      "              Прогноз: -96.0403331674758\n",
      "            --> False:\n",
      "              Прогноз: -72.38668878493968\n",
      "          --> False:\n",
      "            Индекс 1 <= -0.462865876368337\n",
      "            --> True:\n",
      "              Прогноз: -69.64204202315337\n",
      "            --> False:\n",
      "              Индекс 0 <= -0.44932860071632436\n",
      "              --> True:\n",
      "                Прогноз: -57.264785451060334\n",
      "              --> False:\n",
      "                Индекс 1 <= -0.2571249692243189\n",
      "                --> True:\n",
      "                  Прогноз: -42.64146675532116\n",
      "                --> False:\n",
      "                  Прогноз: -28.185964556802155\n",
      "        --> False:\n",
      "          Индекс 0 <= -0.6622090117942488\n",
      "          --> True:\n",
      "            Прогноз: -34.95791874695249\n",
      "          --> False:\n",
      "            Прогноз: -1.0774676001514336\n",
      "  --> False:\n",
      "    Индекс 1 <= -1.060799036330432\n",
      "    --> True:\n",
      "      Индекс 0 <= 1.3911624274193815\n",
      "      --> True:\n",
      "        Индекс 1 <= -1.6669771278806946\n",
      "        --> True:\n",
      "          Прогноз: -146.3969369765864\n",
      "        --> False:\n",
      "          Индекс 0 <= 0.4999397639700475\n",
      "          --> True:\n",
      "            Прогноз: -87.69715802185354\n",
      "          --> False:\n",
      "            Прогноз: -57.69996921528807\n",
      "      --> False:\n",
      "        Прогноз: -12.835300164139662\n",
      "    --> False:\n",
      "      Индекс 0 <= 0.6287758071996502\n",
      "      --> True:\n",
      "        Индекс 1 <= -0.34530825548133437\n",
      "        --> True:\n",
      "          Индекс 0 <= 0.18430173939835864\n",
      "          --> True:\n",
      "            Прогноз: -58.784816244657904\n",
      "          --> False:\n",
      "            Индекс 1 <= -0.6981709975828928\n",
      "            --> True:\n",
      "              Прогноз: -31.881914248925263\n",
      "            --> False:\n",
      "              Прогноз: -12.447131248737113\n",
      "        --> False:\n",
      "          Индекс 0 <= 0.42382470786588067\n",
      "          --> True:\n",
      "            Индекс 1 <= -0.052864739400423355\n",
      "            --> True:\n",
      "              Прогноз: -4.377743698869127\n",
      "            --> False:\n",
      "              Прогноз: 10.430482275459685\n",
      "          --> False:\n",
      "            Прогноз: 37.97216903619032\n",
      "      --> False:\n",
      "        Индекс 0 <= 1.7518181614711237\n",
      "        --> True:\n",
      "          Индекс 1 <= -0.6532502677920357\n",
      "          --> True:\n",
      "            Прогноз: 24.285500162227866\n",
      "          --> False:\n",
      "            Индекс 0 <= 1.0198547293692373\n",
      "            --> True:\n",
      "              Индекс 1 <= -0.03468536600121504\n",
      "              --> True:\n",
      "                Прогноз: 42.02727453268705\n",
      "              --> False:\n",
      "                Прогноз: 68.04568003252001\n",
      "            --> False:\n",
      "              Прогноз: 90.41467079585841\n",
      "        --> False:\n",
      "          Прогноз: 146.73464011009355\n",
      "--> False:\n",
      "  Индекс 0 <= 0.19392842527138224\n",
      "  --> True:\n",
      "    Индекс 1 <= 1.3921301151001328\n",
      "    --> True:\n",
      "      Индекс 0 <= -0.4929949114545433\n",
      "      --> True:\n",
      "        Индекс 0 <= -1.0178627290595672\n",
      "        --> True:\n",
      "          Индекс 0 <= -1.621673802981331\n",
      "          --> True:\n",
      "            Прогноз: -41.608015392995\n",
      "          --> False:\n",
      "            Прогноз: -13.15308227902073\n",
      "        --> False:\n",
      "          Индекс 1 <= 0.6963611506758581\n",
      "          --> True:\n",
      "            Прогноз: -5.058898364484817\n",
      "          --> False:\n",
      "            Прогноз: 37.287948911204566\n",
      "      --> False:\n",
      "        Индекс 1 <= 0.8205643322308263\n",
      "        --> True:\n",
      "          Индекс 1 <= 0.5472618035108127\n",
      "          --> True:\n",
      "            Индекс 1 <= 0.41730922328659115\n",
      "            --> True:\n",
      "              Прогноз: 22.115869237965935\n",
      "            --> False:\n",
      "              Прогноз: 34.767708118921576\n",
      "          --> False:\n",
      "            Индекс 0 <= -0.23448266812459279\n",
      "            --> True:\n",
      "              Прогноз: 38.656711725158466\n",
      "            --> False:\n",
      "              Прогноз: 56.63489125062696\n",
      "        --> False:\n",
      "          Прогноз: 89.42548499422944\n",
      "    --> False:\n",
      "      Индекс 0 <= -1.0649278800787134\n",
      "      --> True:\n",
      "        Прогноз: 82.78455473447443\n",
      "      --> False:\n",
      "        Индекс 1 <= 1.7682974317451594\n",
      "        --> True:\n",
      "          Прогноз: 122.54992099144984\n",
      "        --> False:\n",
      "          Прогноз: 151.04670672838188\n",
      "  --> False:\n",
      "    Индекс 1 <= 1.3355661683407218\n",
      "    --> True:\n",
      "      Индекс 0 <= 1.0996086261478037\n",
      "      --> True:\n",
      "        Индекс 1 <= 0.6961979796114306\n",
      "        --> True:\n",
      "          Индекс 0 <= 0.5662754414424561\n",
      "          --> True:\n",
      "            Прогноз: 92.62637644840125\n",
      "          --> False:\n",
      "            Прогноз: 108.01973667497539\n",
      "        --> False:\n",
      "          Индекс 0 <= 0.6306219672771203\n",
      "          --> True:\n",
      "            Прогноз: 131.02948542157964\n",
      "          --> False:\n",
      "            Прогноз: 155.4079219653625\n",
      "      --> False:\n",
      "        Индекс 0 <= 1.3353117518313151\n",
      "        --> True:\n",
      "          Прогноз: 179.3573860162755\n",
      "        --> False:\n",
      "          Прогноз: 202.3340418805107\n",
      "    --> False:\n",
      "      Прогноз: 245.2978468704415\n"
     ]
    }
   ],
   "source": [
    "# Напечатаем ход нашего дерева\n",
    "def print_tree(node, spacing=\"\"):\n",
    "\n",
    "    # Если лист, то выводим его прогноз\n",
    "    if isinstance(node, Leaf):\n",
    "        print(spacing + \"Прогноз:\", node.prediction)\n",
    "        return\n",
    "\n",
    "    # Выведем значение индекса и порога на этом узле\n",
    "    print(spacing + 'Индекс', str(node.index), '<=', str(node.t))\n",
    "\n",
    "    # Рекурсионный вызов функции на положительном поддереве\n",
    "    print (spacing + '--> True:')\n",
    "    print_tree(node.true_branch, spacing + \"  \")\n",
    "\n",
    "    # Рекурсионный вызов функции на отрицательном поддереве\n",
    "    print (spacing + '--> False:')\n",
    "    print_tree(node.false_branch, spacing + \"  \")\n",
    "    \n",
    "print_tree(my_tree)"
   ]
  },
  {
   "cell_type": "code",
   "execution_count": 108,
   "metadata": {},
   "outputs": [],
   "source": [
    "train_answers = predict(train_data, my_tree)"
   ]
  },
  {
   "cell_type": "code",
   "execution_count": 109,
   "metadata": {},
   "outputs": [],
   "source": [
    "answers = predict(test_data, my_tree)"
   ]
  },
  {
   "cell_type": "code",
   "execution_count": 121,
   "metadata": {},
   "outputs": [
    {
     "name": "stdout",
     "output_type": "stream",
     "text": [
      "MSE train = 591.228\n",
      "MSE test = 986.299\n"
     ]
    }
   ],
   "source": [
    "print(f'MSE train = {calc_mse(train_labels, train_answers).round(3)}')\n",
    "print(f'MSE test = {calc_mse(test_labels, answers).round(3)}')"
   ]
  },
  {
   "cell_type": "code",
   "execution_count": 122,
   "metadata": {},
   "outputs": [
    {
     "name": "stdout",
     "output_type": "stream",
     "text": [
      "R2 train = 0.952\n",
      "R2 test = 0.935\n"
     ]
    }
   ],
   "source": [
    "print(f'R2 train = {R2(train_labels, train_answers).round(3)}')\n",
    "print(f'R2 test = {R2(test_labels, answers).round(3)}')"
   ]
  }
 ],
 "metadata": {
  "kernelspec": {
   "display_name": "Python 3",
   "language": "python",
   "name": "python3"
  },
  "language_info": {
   "codemirror_mode": {
    "name": "ipython",
    "version": 3
   },
   "file_extension": ".py",
   "mimetype": "text/x-python",
   "name": "python",
   "nbconvert_exporter": "python",
   "pygments_lexer": "ipython3",
   "version": "3.8.5"
  }
 },
 "nbformat": 4,
 "nbformat_minor": 4
}
